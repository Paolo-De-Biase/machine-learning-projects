{
 "cells": [
  {
   "cell_type": "markdown",
   "id": "2b69269d-b43a-40b8-a764-5348d1078578",
   "metadata": {},
   "source": [
    "# Hands-On Machine Learning with Scikit-Learn, Keras, and TensorFlow"
   ]
  },
  {
   "cell_type": "markdown",
   "id": "533e2c97-4425-4b55-bf08-46dfc9793247",
   "metadata": {},
   "source": [
    "#### Libraries to add:"
   ]
  },
  {
   "cell_type": "code",
   "execution_count": null,
   "id": "b9c9cd93-9bfb-4209-91f8-870d9d277a22",
   "metadata": {},
   "outputs": [],
   "source": []
  },
  {
   "cell_type": "markdown",
   "id": "86d5da66-3f65-4725-9ca5-70150d6c70d1",
   "metadata": {},
   "source": [
    "## Chapter 1"
   ]
  },
  {
   "cell_type": "code",
   "execution_count": null,
   "id": "50e8019f-2b73-4a4b-b275-2e8875fa3e61",
   "metadata": {},
   "outputs": [],
   "source": []
  }
 ],
 "metadata": {
  "kernelspec": {
   "display_name": "Python [conda env:base] *",
   "language": "python",
   "name": "conda-base-py"
  },
  "language_info": {
   "codemirror_mode": {
    "name": "ipython",
    "version": 3
   },
   "file_extension": ".py",
   "mimetype": "text/x-python",
   "name": "python",
   "nbconvert_exporter": "python",
   "pygments_lexer": "ipython3",
   "version": "3.12.7"
  }
 },
 "nbformat": 4,
 "nbformat_minor": 5
}
